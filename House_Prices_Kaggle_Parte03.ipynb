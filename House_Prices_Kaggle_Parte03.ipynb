{
 "cells": [
  {
   "cell_type": "markdown",
   "id": "93c4f324-875d-4f0e-9b5a-6b7632f6321b",
   "metadata": {},
   "source": [
    "<h1 align=\"center\">House Prices 🏠</h1>"
   ]
  },
  {
   "cell_type": "code",
   "execution_count": 1,
   "id": "82c3e3ad-e991-4dc8-b8f6-df693a2a43da",
   "metadata": {},
   "outputs": [],
   "source": [
    "import pandas as pd"
   ]
  },
  {
   "cell_type": "code",
   "execution_count": 2,
   "id": "446c29e0-49a7-4aa3-955a-c58ee12913ee",
   "metadata": {},
   "outputs": [],
   "source": [
    "base = pd.read_csv('train.csv')"
   ]
  },
  {
   "cell_type": "markdown",
   "id": "b09f2be3-a4b0-4d22-b7bb-b7d052adf36c",
   "metadata": {},
   "source": [
    "## TRATAMENTO E VISUALIZAÇÃO DOS DADOS"
   ]
  },
  {
   "cell_type": "code",
   "execution_count": 3,
   "id": "58e895af-3677-4d99-a76b-a970737d4ebe",
   "metadata": {},
   "outputs": [
    {
     "data": {
      "text/html": [
       "<div>\n",
       "<style scoped>\n",
       "    .dataframe tbody tr th:only-of-type {\n",
       "        vertical-align: middle;\n",
       "    }\n",
       "\n",
       "    .dataframe tbody tr th {\n",
       "        vertical-align: top;\n",
       "    }\n",
       "\n",
       "    .dataframe thead th {\n",
       "        text-align: right;\n",
       "    }\n",
       "</style>\n",
       "<table border=\"1\" class=\"dataframe\">\n",
       "  <thead>\n",
       "    <tr style=\"text-align: right;\">\n",
       "      <th></th>\n",
       "      <th>Id</th>\n",
       "      <th>MSSubClass</th>\n",
       "      <th>MSZoning</th>\n",
       "      <th>LotFrontage</th>\n",
       "      <th>LotArea</th>\n",
       "      <th>Street</th>\n",
       "      <th>Alley</th>\n",
       "      <th>LotShape</th>\n",
       "      <th>LandContour</th>\n",
       "      <th>Utilities</th>\n",
       "      <th>...</th>\n",
       "      <th>PoolArea</th>\n",
       "      <th>PoolQC</th>\n",
       "      <th>Fence</th>\n",
       "      <th>MiscFeature</th>\n",
       "      <th>MiscVal</th>\n",
       "      <th>MoSold</th>\n",
       "      <th>YrSold</th>\n",
       "      <th>SaleType</th>\n",
       "      <th>SaleCondition</th>\n",
       "      <th>SalePrice</th>\n",
       "    </tr>\n",
       "  </thead>\n",
       "  <tbody>\n",
       "    <tr>\n",
       "      <th>0</th>\n",
       "      <td>1</td>\n",
       "      <td>60</td>\n",
       "      <td>RL</td>\n",
       "      <td>65.0</td>\n",
       "      <td>8450</td>\n",
       "      <td>Pave</td>\n",
       "      <td>NaN</td>\n",
       "      <td>Reg</td>\n",
       "      <td>Lvl</td>\n",
       "      <td>AllPub</td>\n",
       "      <td>...</td>\n",
       "      <td>0</td>\n",
       "      <td>NaN</td>\n",
       "      <td>NaN</td>\n",
       "      <td>NaN</td>\n",
       "      <td>0</td>\n",
       "      <td>2</td>\n",
       "      <td>2008</td>\n",
       "      <td>WD</td>\n",
       "      <td>Normal</td>\n",
       "      <td>208500</td>\n",
       "    </tr>\n",
       "    <tr>\n",
       "      <th>1</th>\n",
       "      <td>2</td>\n",
       "      <td>20</td>\n",
       "      <td>RL</td>\n",
       "      <td>80.0</td>\n",
       "      <td>9600</td>\n",
       "      <td>Pave</td>\n",
       "      <td>NaN</td>\n",
       "      <td>Reg</td>\n",
       "      <td>Lvl</td>\n",
       "      <td>AllPub</td>\n",
       "      <td>...</td>\n",
       "      <td>0</td>\n",
       "      <td>NaN</td>\n",
       "      <td>NaN</td>\n",
       "      <td>NaN</td>\n",
       "      <td>0</td>\n",
       "      <td>5</td>\n",
       "      <td>2007</td>\n",
       "      <td>WD</td>\n",
       "      <td>Normal</td>\n",
       "      <td>181500</td>\n",
       "    </tr>\n",
       "    <tr>\n",
       "      <th>2</th>\n",
       "      <td>3</td>\n",
       "      <td>60</td>\n",
       "      <td>RL</td>\n",
       "      <td>68.0</td>\n",
       "      <td>11250</td>\n",
       "      <td>Pave</td>\n",
       "      <td>NaN</td>\n",
       "      <td>IR1</td>\n",
       "      <td>Lvl</td>\n",
       "      <td>AllPub</td>\n",
       "      <td>...</td>\n",
       "      <td>0</td>\n",
       "      <td>NaN</td>\n",
       "      <td>NaN</td>\n",
       "      <td>NaN</td>\n",
       "      <td>0</td>\n",
       "      <td>9</td>\n",
       "      <td>2008</td>\n",
       "      <td>WD</td>\n",
       "      <td>Normal</td>\n",
       "      <td>223500</td>\n",
       "    </tr>\n",
       "    <tr>\n",
       "      <th>3</th>\n",
       "      <td>4</td>\n",
       "      <td>70</td>\n",
       "      <td>RL</td>\n",
       "      <td>60.0</td>\n",
       "      <td>9550</td>\n",
       "      <td>Pave</td>\n",
       "      <td>NaN</td>\n",
       "      <td>IR1</td>\n",
       "      <td>Lvl</td>\n",
       "      <td>AllPub</td>\n",
       "      <td>...</td>\n",
       "      <td>0</td>\n",
       "      <td>NaN</td>\n",
       "      <td>NaN</td>\n",
       "      <td>NaN</td>\n",
       "      <td>0</td>\n",
       "      <td>2</td>\n",
       "      <td>2006</td>\n",
       "      <td>WD</td>\n",
       "      <td>Abnorml</td>\n",
       "      <td>140000</td>\n",
       "    </tr>\n",
       "    <tr>\n",
       "      <th>4</th>\n",
       "      <td>5</td>\n",
       "      <td>60</td>\n",
       "      <td>RL</td>\n",
       "      <td>84.0</td>\n",
       "      <td>14260</td>\n",
       "      <td>Pave</td>\n",
       "      <td>NaN</td>\n",
       "      <td>IR1</td>\n",
       "      <td>Lvl</td>\n",
       "      <td>AllPub</td>\n",
       "      <td>...</td>\n",
       "      <td>0</td>\n",
       "      <td>NaN</td>\n",
       "      <td>NaN</td>\n",
       "      <td>NaN</td>\n",
       "      <td>0</td>\n",
       "      <td>12</td>\n",
       "      <td>2008</td>\n",
       "      <td>WD</td>\n",
       "      <td>Normal</td>\n",
       "      <td>250000</td>\n",
       "    </tr>\n",
       "    <tr>\n",
       "      <th>5</th>\n",
       "      <td>6</td>\n",
       "      <td>50</td>\n",
       "      <td>RL</td>\n",
       "      <td>85.0</td>\n",
       "      <td>14115</td>\n",
       "      <td>Pave</td>\n",
       "      <td>NaN</td>\n",
       "      <td>IR1</td>\n",
       "      <td>Lvl</td>\n",
       "      <td>AllPub</td>\n",
       "      <td>...</td>\n",
       "      <td>0</td>\n",
       "      <td>NaN</td>\n",
       "      <td>MnPrv</td>\n",
       "      <td>Shed</td>\n",
       "      <td>700</td>\n",
       "      <td>10</td>\n",
       "      <td>2009</td>\n",
       "      <td>WD</td>\n",
       "      <td>Normal</td>\n",
       "      <td>143000</td>\n",
       "    </tr>\n",
       "  </tbody>\n",
       "</table>\n",
       "<p>6 rows × 81 columns</p>\n",
       "</div>"
      ],
      "text/plain": [
       "   Id  MSSubClass MSZoning  LotFrontage  LotArea Street Alley LotShape  \\\n",
       "0   1          60       RL         65.0     8450   Pave   NaN      Reg   \n",
       "1   2          20       RL         80.0     9600   Pave   NaN      Reg   \n",
       "2   3          60       RL         68.0    11250   Pave   NaN      IR1   \n",
       "3   4          70       RL         60.0     9550   Pave   NaN      IR1   \n",
       "4   5          60       RL         84.0    14260   Pave   NaN      IR1   \n",
       "5   6          50       RL         85.0    14115   Pave   NaN      IR1   \n",
       "\n",
       "  LandContour Utilities  ... PoolArea PoolQC  Fence MiscFeature MiscVal  \\\n",
       "0         Lvl    AllPub  ...        0    NaN    NaN         NaN       0   \n",
       "1         Lvl    AllPub  ...        0    NaN    NaN         NaN       0   \n",
       "2         Lvl    AllPub  ...        0    NaN    NaN         NaN       0   \n",
       "3         Lvl    AllPub  ...        0    NaN    NaN         NaN       0   \n",
       "4         Lvl    AllPub  ...        0    NaN    NaN         NaN       0   \n",
       "5         Lvl    AllPub  ...        0    NaN  MnPrv        Shed     700   \n",
       "\n",
       "  MoSold YrSold  SaleType  SaleCondition  SalePrice  \n",
       "0      2   2008        WD         Normal     208500  \n",
       "1      5   2007        WD         Normal     181500  \n",
       "2      9   2008        WD         Normal     223500  \n",
       "3      2   2006        WD        Abnorml     140000  \n",
       "4     12   2008        WD         Normal     250000  \n",
       "5     10   2009        WD         Normal     143000  \n",
       "\n",
       "[6 rows x 81 columns]"
      ]
     },
     "execution_count": 3,
     "metadata": {},
     "output_type": "execute_result"
    }
   ],
   "source": [
    "base.head(6)"
   ]
  },
  {
   "cell_type": "code",
   "execution_count": 4,
   "id": "3ec2cfff-b2e5-49ff-8c57-785bc135c959",
   "metadata": {},
   "outputs": [
    {
     "data": {
      "text/plain": [
       "(1460, 81)"
      ]
     },
     "execution_count": 4,
     "metadata": {},
     "output_type": "execute_result"
    }
   ],
   "source": [
    "base.shape"
   ]
  },
  {
   "cell_type": "code",
   "execution_count": 5,
   "id": "0a34e98c-6ca9-490b-ae32-914d477e8d37",
   "metadata": {},
   "outputs": [
    {
     "data": {
      "text/plain": [
       "Alley           2\n",
       "Street          2\n",
       "Utilities       2\n",
       "CentralAir      2\n",
       "MasVnrType      3\n",
       "HalfBath        3\n",
       "GarageFinish    3\n",
       "LandSlope       3\n",
       "BsmtHalfBath    3\n",
       "PavedDrive      3\n",
       "PoolQC          3\n",
       "ExterQual       4\n",
       "BsmtQual        4\n",
       "LotShape        4\n",
       "BsmtExposure    4\n",
       "FullBath        4\n",
       "KitchenQual     4\n",
       "BsmtFullBath    4\n",
       "Fireplaces      4\n",
       "KitchenAbvGr    4\n",
       "dtype: int64"
      ]
     },
     "execution_count": 5,
     "metadata": {},
     "output_type": "execute_result"
    }
   ],
   "source": [
    "base.nunique().sort_values(ascending=True).head(20)"
   ]
  },
  {
   "cell_type": "code",
   "execution_count": 6,
   "id": "c4b5a3f4-b77d-4ae1-bc1f-3e680a548ff0",
   "metadata": {},
   "outputs": [
    {
     "data": {
      "text/plain": [
       "Utilities\n",
       "AllPub    1459\n",
       "NoSeWa       1\n",
       "Name: count, dtype: int64"
      ]
     },
     "execution_count": 6,
     "metadata": {},
     "output_type": "execute_result"
    }
   ],
   "source": [
    "base.Utilities.value_counts()"
   ]
  },
  {
   "cell_type": "code",
   "execution_count": 7,
   "id": "0c9106f4-ef62-4850-84c6-af5c178bd4ad",
   "metadata": {},
   "outputs": [
    {
     "data": {
      "text/plain": [
       "Street\n",
       "Pave    1454\n",
       "Grvl       6\n",
       "Name: count, dtype: int64"
      ]
     },
     "execution_count": 7,
     "metadata": {},
     "output_type": "execute_result"
    }
   ],
   "source": [
    "base.Street.value_counts()"
   ]
  },
  {
   "cell_type": "code",
   "execution_count": 8,
   "id": "ec2895c4-1da4-4ecf-82ae-9d840dab3c95",
   "metadata": {},
   "outputs": [
    {
     "data": {
      "text/plain": [
       "CentralAir\n",
       "Y    1365\n",
       "N      95\n",
       "Name: count, dtype: int64"
      ]
     },
     "execution_count": 8,
     "metadata": {},
     "output_type": "execute_result"
    }
   ],
   "source": [
    "base.CentralAir.value_counts()"
   ]
  },
  {
   "cell_type": "code",
   "execution_count": 9,
   "id": "f7a82bc8-774d-4e40-beaa-92147a519731",
   "metadata": {},
   "outputs": [
    {
     "data": {
      "text/plain": [
       "array(['Y', 'N'], dtype=object)"
      ]
     },
     "execution_count": 9,
     "metadata": {},
     "output_type": "execute_result"
    }
   ],
   "source": [
    "base.CentralAir.unique()"
   ]
  },
  {
   "cell_type": "code",
   "execution_count": 11,
   "id": "35e357f0-01f2-4c99-88c7-a14aee6f3406",
   "metadata": {},
   "outputs": [],
   "source": [
    "base['central_air'] = base.CentralAir.apply(lambda x: 1 if x == 'Y' else 0)"
   ]
  },
  {
   "cell_type": "code",
   "execution_count": 12,
   "id": "7088c855-a113-4e3c-97a3-9eca266eac16",
   "metadata": {},
   "outputs": [
    {
     "data": {
      "text/plain": [
       "CentralAir  central_air\n",
       "Y           1              1365\n",
       "N           0                95\n",
       "Name: count, dtype: int64"
      ]
     },
     "execution_count": 12,
     "metadata": {},
     "output_type": "execute_result"
    }
   ],
   "source": [
    "base[['CentralAir','central_air']].value_counts()"
   ]
  },
  {
   "cell_type": "code",
   "execution_count": 13,
   "id": "cfa60c88-3950-4f3f-9e8b-e5c9671cba18",
   "metadata": {},
   "outputs": [
    {
     "data": {
      "text/plain": [
       "PoolQC          0.995205\n",
       "MiscFeature     0.963014\n",
       "Alley           0.937671\n",
       "Fence           0.807534\n",
       "MasVnrType      0.597260\n",
       "FireplaceQu     0.472603\n",
       "LotFrontage     0.177397\n",
       "GarageQual      0.055479\n",
       "GarageYrBlt     0.055479\n",
       "GarageFinish    0.055479\n",
       "GarageType      0.055479\n",
       "GarageCond      0.055479\n",
       "BsmtExposure    0.026027\n",
       "BsmtFinType2    0.026027\n",
       "BsmtQual        0.025342\n",
       "BsmtFinType1    0.025342\n",
       "BsmtCond        0.025342\n",
       "MasVnrArea      0.005479\n",
       "Electrical      0.000685\n",
       "HouseStyle      0.000000\n",
       "dtype: float64"
      ]
     },
     "execution_count": 13,
     "metadata": {},
     "output_type": "execute_result"
    }
   ],
   "source": [
    "(base.isnull().sum()/base.shape[0]).sort_values(ascending=False).head(20)"
   ]
  },
  {
   "cell_type": "code",
   "execution_count": 14,
   "id": "250d8701-077f-4603-91f9-40b39328c71e",
   "metadata": {},
   "outputs": [
    {
     "data": {
      "text/plain": [
       "Index(['LotFrontage', 'Alley', 'MasVnrType', 'FireplaceQu', 'PoolQC', 'Fence',\n",
       "       'MiscFeature'],\n",
       "      dtype='object')"
      ]
     },
     "execution_count": 14,
     "metadata": {},
     "output_type": "execute_result"
    }
   ],
   "source": [
    "eliminar = base.columns[(base.isnull().sum()/base.shape[0]) > 0.1]\n",
    "eliminar"
   ]
  },
  {
   "cell_type": "code",
   "execution_count": 15,
   "id": "1552f6ec-f08f-43e2-855f-9c44948b1088",
   "metadata": {},
   "outputs": [],
   "source": [
    "base = base.drop(eliminar,axis=1)"
   ]
  },
  {
   "cell_type": "code",
   "execution_count": 16,
   "id": "f6c3658d-2e28-46ab-b6e0-3ce44bc41fe2",
   "metadata": {},
   "outputs": [
    {
     "data": {
      "text/plain": [
       "GarageFinish    0.055479\n",
       "GarageType      0.055479\n",
       "GarageQual      0.055479\n",
       "GarageCond      0.055479\n",
       "GarageYrBlt     0.055479\n",
       "BsmtFinType2    0.026027\n",
       "BsmtExposure    0.026027\n",
       "BsmtQual        0.025342\n",
       "BsmtFinType1    0.025342\n",
       "BsmtCond        0.025342\n",
       "MasVnrArea      0.005479\n",
       "Electrical      0.000685\n",
       "Neighborhood    0.000000\n",
       "LotConfig       0.000000\n",
       "LandSlope       0.000000\n",
       "LandContour     0.000000\n",
       "LotShape        0.000000\n",
       "Street          0.000000\n",
       "LotArea         0.000000\n",
       "MSZoning        0.000000\n",
       "dtype: float64"
      ]
     },
     "execution_count": 16,
     "metadata": {},
     "output_type": "execute_result"
    }
   ],
   "source": [
    "(base.isnull().sum()/base.shape[0]).sort_values(ascending=False).head(20)"
   ]
  },
  {
   "cell_type": "code",
   "execution_count": 17,
   "id": "937cb65f-7d46-468d-8e30-9755204946ce",
   "metadata": {},
   "outputs": [
    {
     "data": {
      "text/plain": [
       "BsmtQual\n",
       "TA    649\n",
       "Gd    618\n",
       "Ex    121\n",
       "Fa     35\n",
       "Name: count, dtype: int64"
      ]
     },
     "execution_count": 17,
     "metadata": {},
     "output_type": "execute_result"
    }
   ],
   "source": [
    "base.BsmtQual.value_counts()"
   ]
  },
  {
   "cell_type": "code",
   "execution_count": 18,
   "id": "b19386ab-cf67-47e8-94f6-749cc32ae834",
   "metadata": {},
   "outputs": [],
   "source": [
    "base['BsmtQual'] = base['BsmtQual'].fillna('None')"
   ]
  },
  {
   "cell_type": "code",
   "execution_count": 19,
   "id": "9c72d1fc-cea8-4f98-8f1b-a577a738a504",
   "metadata": {},
   "outputs": [],
   "source": [
    "mode_mszoning = base['MSZoning'].mode()[0]"
   ]
  },
  {
   "cell_type": "code",
   "execution_count": 20,
   "id": "76d193d9-cfd2-4ab0-93c2-5ef300980659",
   "metadata": {},
   "outputs": [],
   "source": [
    "base['MSZoning'] = base['MSZoning'].fillna(mode_mszoning)"
   ]
  },
  {
   "cell_type": "code",
   "execution_count": 21,
   "id": "d260d4d4-ca73-4b20-a128-44a76193ba74",
   "metadata": {},
   "outputs": [],
   "source": [
    "bsmt_qual_dummies = pd.get_dummies(base['BsmtQual'], prefix='BsmtQual').astype(int)"
   ]
  },
  {
   "cell_type": "code",
   "execution_count": 22,
   "id": "8223f346-b0bb-4fee-9672-7be836951741",
   "metadata": {},
   "outputs": [],
   "source": [
    "base = pd.concat([base, bsmt_qual_dummies], axis=1)"
   ]
  },
  {
   "cell_type": "code",
   "execution_count": 23,
   "id": "019b1faf-f6f0-40e3-9b5a-460295d005a3",
   "metadata": {},
   "outputs": [],
   "source": [
    "base.drop('BsmtQual', axis=1, inplace=True)"
   ]
  },
  {
   "cell_type": "code",
   "execution_count": 24,
   "id": "ba8c118d-b912-4ec3-8704-1800cb353550",
   "metadata": {},
   "outputs": [
    {
     "name": "stdout",
     "output_type": "stream",
     "text": [
      "   BsmtQual_Ex  BsmtQual_Fa  BsmtQual_Gd  BsmtQual_None  BsmtQual_TA\n",
      "0            0            0            1              0            0\n",
      "1            0            0            1              0            0\n",
      "2            0            0            1              0            0\n",
      "3            0            0            0              0            1\n",
      "4            0            0            1              0            0\n"
     ]
    }
   ],
   "source": [
    "print(base.filter(like='BsmtQual').head())"
   ]
  },
  {
   "cell_type": "code",
   "execution_count": 25,
   "id": "417ed167-a05e-4dea-b729-a5fa376ba37c",
   "metadata": {},
   "outputs": [
    {
     "data": {
      "text/plain": [
       "KitchenQual\n",
       "TA    735\n",
       "Gd    586\n",
       "Ex    100\n",
       "Fa     39\n",
       "Name: count, dtype: int64"
      ]
     },
     "execution_count": 25,
     "metadata": {},
     "output_type": "execute_result"
    }
   ],
   "source": [
    "base.KitchenQual.value_counts()"
   ]
  },
  {
   "cell_type": "code",
   "execution_count": 26,
   "id": "a31697c6-efee-4280-b2e7-ecab77213529",
   "metadata": {},
   "outputs": [
    {
     "data": {
      "text/plain": [
       "np.int64(0)"
      ]
     },
     "execution_count": 26,
     "metadata": {},
     "output_type": "execute_result"
    }
   ],
   "source": [
    "base.KitchenQual.isnull().sum()"
   ]
  },
  {
   "cell_type": "code",
   "execution_count": 27,
   "id": "de62d314-f751-4381-bb2f-4ee0187a30fc",
   "metadata": {},
   "outputs": [],
   "source": [
    "kitchen_dummies = pd.get_dummies(base['KitchenQual'], prefix='KitchenQual', drop_first=True).astype(int)"
   ]
  },
  {
   "cell_type": "code",
   "execution_count": 28,
   "id": "b187cce5-788c-4a16-bf01-ec54b50f9aa6",
   "metadata": {},
   "outputs": [],
   "source": [
    "base = pd.concat([base, kitchen_dummies], axis=1)"
   ]
  },
  {
   "cell_type": "code",
   "execution_count": 29,
   "id": "f382c057-dc21-453b-b417-261a99e4fd93",
   "metadata": {},
   "outputs": [],
   "source": [
    "base.drop('KitchenQual', axis=1, inplace=True)"
   ]
  },
  {
   "cell_type": "code",
   "execution_count": 30,
   "id": "80ca9ad8-8036-404f-bf2e-dd6be45a11c8",
   "metadata": {},
   "outputs": [],
   "source": [
    "colunas = base.columns[base.dtypes != 'object']"
   ]
  },
  {
   "cell_type": "code",
   "execution_count": 31,
   "id": "2c275be3-e476-4991-94aa-4ccd7c765f2c",
   "metadata": {},
   "outputs": [],
   "source": [
    "base2 = base.loc[:,colunas]"
   ]
  },
  {
   "cell_type": "code",
   "execution_count": 32,
   "id": "72e169b1-336b-4f6b-ba15-abd5848b54e0",
   "metadata": {},
   "outputs": [
    {
     "data": {
      "text/html": [
       "<div>\n",
       "<style scoped>\n",
       "    .dataframe tbody tr th:only-of-type {\n",
       "        vertical-align: middle;\n",
       "    }\n",
       "\n",
       "    .dataframe tbody tr th {\n",
       "        vertical-align: top;\n",
       "    }\n",
       "\n",
       "    .dataframe thead th {\n",
       "        text-align: right;\n",
       "    }\n",
       "</style>\n",
       "<table border=\"1\" class=\"dataframe\">\n",
       "  <thead>\n",
       "    <tr style=\"text-align: right;\">\n",
       "      <th></th>\n",
       "      <th>Id</th>\n",
       "      <th>MSSubClass</th>\n",
       "      <th>LotArea</th>\n",
       "      <th>OverallQual</th>\n",
       "      <th>OverallCond</th>\n",
       "      <th>YearBuilt</th>\n",
       "      <th>YearRemodAdd</th>\n",
       "      <th>MasVnrArea</th>\n",
       "      <th>BsmtFinSF1</th>\n",
       "      <th>BsmtFinSF2</th>\n",
       "      <th>...</th>\n",
       "      <th>SalePrice</th>\n",
       "      <th>central_air</th>\n",
       "      <th>BsmtQual_Ex</th>\n",
       "      <th>BsmtQual_Fa</th>\n",
       "      <th>BsmtQual_Gd</th>\n",
       "      <th>BsmtQual_None</th>\n",
       "      <th>BsmtQual_TA</th>\n",
       "      <th>KitchenQual_Fa</th>\n",
       "      <th>KitchenQual_Gd</th>\n",
       "      <th>KitchenQual_TA</th>\n",
       "    </tr>\n",
       "  </thead>\n",
       "  <tbody>\n",
       "    <tr>\n",
       "      <th>0</th>\n",
       "      <td>1</td>\n",
       "      <td>60</td>\n",
       "      <td>8450</td>\n",
       "      <td>7</td>\n",
       "      <td>5</td>\n",
       "      <td>2003</td>\n",
       "      <td>2003</td>\n",
       "      <td>196.0</td>\n",
       "      <td>706</td>\n",
       "      <td>0</td>\n",
       "      <td>...</td>\n",
       "      <td>208500</td>\n",
       "      <td>1</td>\n",
       "      <td>0</td>\n",
       "      <td>0</td>\n",
       "      <td>1</td>\n",
       "      <td>0</td>\n",
       "      <td>0</td>\n",
       "      <td>0</td>\n",
       "      <td>1</td>\n",
       "      <td>0</td>\n",
       "    </tr>\n",
       "    <tr>\n",
       "      <th>1</th>\n",
       "      <td>2</td>\n",
       "      <td>20</td>\n",
       "      <td>9600</td>\n",
       "      <td>6</td>\n",
       "      <td>8</td>\n",
       "      <td>1976</td>\n",
       "      <td>1976</td>\n",
       "      <td>0.0</td>\n",
       "      <td>978</td>\n",
       "      <td>0</td>\n",
       "      <td>...</td>\n",
       "      <td>181500</td>\n",
       "      <td>1</td>\n",
       "      <td>0</td>\n",
       "      <td>0</td>\n",
       "      <td>1</td>\n",
       "      <td>0</td>\n",
       "      <td>0</td>\n",
       "      <td>0</td>\n",
       "      <td>0</td>\n",
       "      <td>1</td>\n",
       "    </tr>\n",
       "    <tr>\n",
       "      <th>2</th>\n",
       "      <td>3</td>\n",
       "      <td>60</td>\n",
       "      <td>11250</td>\n",
       "      <td>7</td>\n",
       "      <td>5</td>\n",
       "      <td>2001</td>\n",
       "      <td>2002</td>\n",
       "      <td>162.0</td>\n",
       "      <td>486</td>\n",
       "      <td>0</td>\n",
       "      <td>...</td>\n",
       "      <td>223500</td>\n",
       "      <td>1</td>\n",
       "      <td>0</td>\n",
       "      <td>0</td>\n",
       "      <td>1</td>\n",
       "      <td>0</td>\n",
       "      <td>0</td>\n",
       "      <td>0</td>\n",
       "      <td>1</td>\n",
       "      <td>0</td>\n",
       "    </tr>\n",
       "    <tr>\n",
       "      <th>3</th>\n",
       "      <td>4</td>\n",
       "      <td>70</td>\n",
       "      <td>9550</td>\n",
       "      <td>7</td>\n",
       "      <td>5</td>\n",
       "      <td>1915</td>\n",
       "      <td>1970</td>\n",
       "      <td>0.0</td>\n",
       "      <td>216</td>\n",
       "      <td>0</td>\n",
       "      <td>...</td>\n",
       "      <td>140000</td>\n",
       "      <td>1</td>\n",
       "      <td>0</td>\n",
       "      <td>0</td>\n",
       "      <td>0</td>\n",
       "      <td>0</td>\n",
       "      <td>1</td>\n",
       "      <td>0</td>\n",
       "      <td>1</td>\n",
       "      <td>0</td>\n",
       "    </tr>\n",
       "  </tbody>\n",
       "</table>\n",
       "<p>4 rows × 46 columns</p>\n",
       "</div>"
      ],
      "text/plain": [
       "   Id  MSSubClass  LotArea  OverallQual  OverallCond  YearBuilt  YearRemodAdd  \\\n",
       "0   1          60     8450            7            5       2003          2003   \n",
       "1   2          20     9600            6            8       1976          1976   \n",
       "2   3          60    11250            7            5       2001          2002   \n",
       "3   4          70     9550            7            5       1915          1970   \n",
       "\n",
       "   MasVnrArea  BsmtFinSF1  BsmtFinSF2  ...  SalePrice  central_air  \\\n",
       "0       196.0         706           0  ...     208500            1   \n",
       "1         0.0         978           0  ...     181500            1   \n",
       "2       162.0         486           0  ...     223500            1   \n",
       "3         0.0         216           0  ...     140000            1   \n",
       "\n",
       "   BsmtQual_Ex  BsmtQual_Fa  BsmtQual_Gd  BsmtQual_None  BsmtQual_TA  \\\n",
       "0            0            0            1              0            0   \n",
       "1            0            0            1              0            0   \n",
       "2            0            0            1              0            0   \n",
       "3            0            0            0              0            1   \n",
       "\n",
       "   KitchenQual_Fa  KitchenQual_Gd  KitchenQual_TA  \n",
       "0               0               1               0  \n",
       "1               0               0               1  \n",
       "2               0               1               0  \n",
       "3               0               1               0  \n",
       "\n",
       "[4 rows x 46 columns]"
      ]
     },
     "execution_count": 32,
     "metadata": {},
     "output_type": "execute_result"
    }
   ],
   "source": [
    "base2.head(4)\n"
   ]
  },
  {
   "cell_type": "code",
   "execution_count": 33,
   "id": "ee3218f9-2f05-444a-b5a4-bf5095a969ef",
   "metadata": {},
   "outputs": [
    {
     "data": {
      "text/plain": [
       "Index([], dtype='object')"
      ]
     },
     "execution_count": 33,
     "metadata": {},
     "output_type": "execute_result"
    }
   ],
   "source": [
    "have_object = base2.columns[base2.dtypes == 'object']\n",
    "have_object"
   ]
  },
  {
   "cell_type": "code",
   "execution_count": 34,
   "id": "d284319b-c7be-4ceb-aa4e-fc2266b0399e",
   "metadata": {},
   "outputs": [
    {
     "data": {
      "text/plain": [
       "GarageYrBlt    81\n",
       "MasVnrArea      8\n",
       "LotArea         0\n",
       "dtype: int64"
      ]
     },
     "execution_count": 34,
     "metadata": {},
     "output_type": "execute_result"
    }
   ],
   "source": [
    "base2.isnull().sum().sort_values(ascending=False).head(3)"
   ]
  },
  {
   "cell_type": "code",
   "execution_count": 35,
   "id": "b959e224-44bc-458d-8604-6106b0019467",
   "metadata": {},
   "outputs": [],
   "source": [
    "base2 = base2.fillna({\n",
    "    \"GarageYrBlt\": -1,\n",
    "    \"MasVnrArea\": 0\n",
    "})"
   ]
  },
  {
   "cell_type": "markdown",
   "id": "8b8fecc7-22eb-4b87-b25d-cbd45aaee837",
   "metadata": {},
   "source": [
    "## CRIANDO MODELO\n",
    "### Separando treino e teste\n",
    " - https://scikit-learn.org/stable/modules/generated/sklearn.model_selection.train_test_split.html"
   ]
  },
  {
   "cell_type": "code",
   "execution_count": 36,
   "id": "79ac21af-d682-441a-8331-e9109af24546",
   "metadata": {},
   "outputs": [],
   "source": [
    "X = base2.drop('SalePrice',axis = 1)\n",
    "y = base2.SalePrice"
   ]
  },
  {
   "cell_type": "code",
   "execution_count": 37,
   "id": "a4c496d8-6297-47fd-bec4-6befda60267b",
   "metadata": {},
   "outputs": [],
   "source": [
    "from sklearn.model_selection import train_test_split"
   ]
  },
  {
   "cell_type": "code",
   "execution_count": 38,
   "id": "3b939b44-6f0b-4072-9492-59072e33013d",
   "metadata": {},
   "outputs": [],
   "source": [
    "X_train, X_test, y_train, y_test = train_test_split(X, y, test_size=0.33, random_state=42)"
   ]
  },
  {
   "cell_type": "markdown",
   "id": "988d1313-0a44-40a0-9558-8b8698642a5f",
   "metadata": {},
   "source": [
    "## Algoritmos de Machine Learning\n",
    "\n",
    "- Regressão Linear\n",
    "        - https://scikit-learn.org/stable/modules/generated/sklearn.linear_model.LinearRegression.html\n",
    "    - Árvore de Regressão\n",
    "        - https://scikit-learn.org/stable/modules/tree.html#regression\n",
    "    - KNeighborsRegressor\n",
    "        - https://scikit-learn.org/stable/modules/generated/sklearn.neighbors.KNeighborsRegressor.html#sklearn.neighbors.KNeighborsRegressor"
   ]
  },
  {
   "cell_type": "markdown",
   "id": "c7829974-c1a3-4a62-9f10-dfd9bca7ef21",
   "metadata": {},
   "source": [
    "- Regressão Linear"
   ]
  },
  {
   "cell_type": "code",
   "execution_count": 39,
   "id": "b86a7ece-2cf1-4fd6-aba1-2775b82a6db6",
   "metadata": {},
   "outputs": [],
   "source": [
    "from sklearn.linear_model import LinearRegression"
   ]
  },
  {
   "cell_type": "code",
   "execution_count": 40,
   "id": "35f095b6-5489-4352-bf10-ae7bea5c84e8",
   "metadata": {},
   "outputs": [],
   "source": [
    "reg_rl = LinearRegression().fit(X_train, y_train)"
   ]
  },
  {
   "cell_type": "code",
   "execution_count": 41,
   "id": "54581061-ce17-4b62-bcd4-d856afa5f4ed",
   "metadata": {},
   "outputs": [],
   "source": [
    "y_rl = reg_rl.predict(X_test)"
   ]
  },
  {
   "cell_type": "markdown",
   "id": "6a1b3a90-591a-4e39-a799-a7fab52e0021",
   "metadata": {},
   "source": [
    "- Árvore de Regressão"
   ]
  },
  {
   "cell_type": "code",
   "execution_count": 42,
   "id": "05966e62-2eca-4838-89ca-4141b9ac0d40",
   "metadata": {},
   "outputs": [],
   "source": [
    "from sklearn import tree"
   ]
  },
  {
   "cell_type": "code",
   "execution_count": 43,
   "id": "efda3ee5-262c-4259-84c7-e9efc972048b",
   "metadata": {},
   "outputs": [],
   "source": [
    "reg_ar = tree.DecisionTreeRegressor(random_state = 42).fit(X_train, y_train)"
   ]
  },
  {
   "cell_type": "code",
   "execution_count": 44,
   "id": "9cb0f9ba-23e4-4441-bb63-da654f9e395a",
   "metadata": {},
   "outputs": [],
   "source": [
    "y_ar = reg_ar.predict(X_test)"
   ]
  },
  {
   "cell_type": "markdown",
   "id": "6e23c476-eea4-4558-8dc9-f965ea797fd5",
   "metadata": {},
   "source": [
    "- KNeighborsRegressor"
   ]
  },
  {
   "cell_type": "code",
   "execution_count": 45,
   "id": "0da17cde-f076-4d67-a22c-d039ac31861f",
   "metadata": {},
   "outputs": [],
   "source": [
    "from sklearn.neighbors import KNeighborsRegressor"
   ]
  },
  {
   "cell_type": "code",
   "execution_count": 46,
   "id": "f09bf3b9-d898-472f-879b-b6666f9646ea",
   "metadata": {},
   "outputs": [],
   "source": [
    "reg_knn = KNeighborsRegressor(n_neighbors=2).fit(X_train,y_train)"
   ]
  },
  {
   "cell_type": "code",
   "execution_count": 47,
   "id": "37a76352-e175-4ad3-a826-bb25624ba8ba",
   "metadata": {},
   "outputs": [],
   "source": [
    "y_knn = reg_knn.predict(X_test)"
   ]
  },
  {
   "cell_type": "markdown",
   "id": "f3503cb1-dbf9-4aac-9922-ea3d70600488",
   "metadata": {},
   "source": [
    "### Avaliando\n",
    " - Erro médio absoluto\n",
    "        - https://scikit-learn.org/stable/modules/generated/sklearn.metrics.mean_absolute_error.html\n",
    " - Erro quadrático médio\n",
    "        - https://scikit-learn.org/stable/modules/generated/sklearn.metrics.mean_squared_error.html"
   ]
  },
  {
   "cell_type": "code",
   "execution_count": 48,
   "id": "44790b49-12a0-4619-97b9-3a4e86fe392b",
   "metadata": {},
   "outputs": [],
   "source": [
    "from sklearn.metrics import mean_absolute_error"
   ]
  },
  {
   "cell_type": "code",
   "execution_count": 49,
   "id": "236b7181-b3e0-4b7e-9ca1-0b03cc8f27d3",
   "metadata": {},
   "outputs": [],
   "source": [
    "from sklearn.metrics import mean_squared_error"
   ]
  },
  {
   "cell_type": "markdown",
   "id": "3cb6d8aa-befc-4b2f-b384-85f737cf1232",
   "metadata": {},
   "source": [
    "- Erro na regressão"
   ]
  },
  {
   "cell_type": "code",
   "execution_count": 50,
   "id": "3b653d9f-b230-465f-b05b-12b15fbef180",
   "metadata": {},
   "outputs": [
    {
     "name": "stdout",
     "output_type": "stream",
     "text": [
      "22149.49052981233\n",
      "1339611769.1731672\n"
     ]
    }
   ],
   "source": [
    "print(mean_absolute_error(y_test,y_rl))\n",
    "print(mean_squared_error(y_test,y_rl))"
   ]
  },
  {
   "cell_type": "markdown",
   "id": "598a4b9c-fc46-4eed-afa0-031047313b4b",
   "metadata": {},
   "source": [
    "- Erro na árvore"
   ]
  },
  {
   "cell_type": "code",
   "execution_count": 51,
   "id": "52240ac3-38dd-4f77-89bb-cd9690fbcdca",
   "metadata": {},
   "outputs": [
    {
     "name": "stdout",
     "output_type": "stream",
     "text": [
      "27113.5622406639\n",
      "1948929906.4834025\n"
     ]
    }
   ],
   "source": [
    "print(mean_absolute_error(y_test,y_ar))\n",
    "print(mean_squared_error(y_test,y_ar))"
   ]
  },
  {
   "cell_type": "markdown",
   "id": "8d950816-8d4e-4279-8dca-9b36fec9611f",
   "metadata": {},
   "source": [
    "- Erro KNN"
   ]
  },
  {
   "cell_type": "code",
   "execution_count": 52,
   "id": "06ad08e8-ba27-4f7f-9855-92ad1e7a09bf",
   "metadata": {},
   "outputs": [
    {
     "name": "stdout",
     "output_type": "stream",
     "text": [
      "33273.08298755187\n",
      "2733937586.841286\n"
     ]
    }
   ],
   "source": [
    "print(mean_absolute_error(y_test,y_knn))\n",
    "print(mean_squared_error(y_test,y_knn))"
   ]
  },
  {
   "cell_type": "code",
   "execution_count": 53,
   "id": "fe1bbf58-5959-4275-8f28-6d1495953342",
   "metadata": {},
   "outputs": [],
   "source": [
    "import matplotlib.pyplot as plt"
   ]
  },
  {
   "cell_type": "code",
   "execution_count": 54,
   "id": "d6652f21-3d0a-4641-9668-2daf5b26969a",
   "metadata": {},
   "outputs": [
    {
     "data": {
      "image/png": "[encoded data removed]",
      "text/plain": [
       "<Figure size 1500x500 with 3 Axes>"
      ]
     },
     "metadata": {},
     "output_type": "display_data"
    }
   ],
   "source": [
    "# Criando gráfico\n",
    "fig, ax = plt.subplots(ncols=3,figsize=(15,5))\n",
    "\n",
    "ax[0].scatter(y_test/100000,y_rl/100000)\n",
    "ax[0].plot([0,700000],[0,700000],'--r')\n",
    "ax[1].scatter(y_test/100000,y_ar/100000)\n",
    "ax[1].plot([0,700000],[0,700000],'--r')\n",
    "ax[2].scatter(y_test/100000,y_knn/100000)\n",
    "ax[2].plot([0,700000],[0,700000],'--r')\n",
    "\n",
    "ax[0].set(xlim=(0, 7),ylim=(0, 7))\n",
    "ax[0].set_xlabel('Real')\n",
    "ax[0].set_ylabel('Previsão')\n",
    "ax[1].set(xlim=(0, 7),ylim=(0, 7))\n",
    "ax[1].set_xlabel('Real')\n",
    "ax[1].set_ylabel('Previsão')\n",
    "ax[2].set(xlim=(0, 7),ylim=(0, 7))\n",
    "ax[2].set_xlabel('Real')\n",
    "ax[2].set_ylabel('Previsão')\n",
    "\n",
    "plt.show()"
   ]
  },
  {
   "cell_type": "markdown",
   "id": "bd8d428d-6d10-4cc1-b39a-693c77afedd1",
   "metadata": {},
   "source": [
    "## Previsão para base de teste"
   ]
  },
  {
   "cell_type": "code",
   "execution_count": 55,
   "id": "f28fd945-2f95-41a1-abaa-121b41c2117a",
   "metadata": {},
   "outputs": [],
   "source": [
    "teste = pd.read_csv('test.csv')"
   ]
  },
  {
   "cell_type": "code",
   "execution_count": 56,
   "id": "dd65b2f7-791a-4a75-a27c-09c85de49f6d",
   "metadata": {},
   "outputs": [
    {
     "data": {
      "text/html": [
       "<div>\n",
       "<style scoped>\n",
       "    .dataframe tbody tr th:only-of-type {\n",
       "        vertical-align: middle;\n",
       "    }\n",
       "\n",
       "    .dataframe tbody tr th {\n",
       "        vertical-align: top;\n",
       "    }\n",
       "\n",
       "    .dataframe thead th {\n",
       "        text-align: right;\n",
       "    }\n",
       "</style>\n",
       "<table border=\"1\" class=\"dataframe\">\n",
       "  <thead>\n",
       "    <tr style=\"text-align: right;\">\n",
       "      <th></th>\n",
       "      <th>Id</th>\n",
       "      <th>MSSubClass</th>\n",
       "      <th>MSZoning</th>\n",
       "      <th>LotFrontage</th>\n",
       "      <th>LotArea</th>\n",
       "      <th>Street</th>\n",
       "      <th>Alley</th>\n",
       "      <th>LotShape</th>\n",
       "      <th>LandContour</th>\n",
       "      <th>Utilities</th>\n",
       "      <th>...</th>\n",
       "      <th>ScreenPorch</th>\n",
       "      <th>PoolArea</th>\n",
       "      <th>PoolQC</th>\n",
       "      <th>Fence</th>\n",
       "      <th>MiscFeature</th>\n",
       "      <th>MiscVal</th>\n",
       "      <th>MoSold</th>\n",
       "      <th>YrSold</th>\n",
       "      <th>SaleType</th>\n",
       "      <th>SaleCondition</th>\n",
       "    </tr>\n",
       "  </thead>\n",
       "  <tbody>\n",
       "    <tr>\n",
       "      <th>0</th>\n",
       "      <td>1461</td>\n",
       "      <td>20</td>\n",
       "      <td>RH</td>\n",
       "      <td>80.0</td>\n",
       "      <td>11622</td>\n",
       "      <td>Pave</td>\n",
       "      <td>NaN</td>\n",
       "      <td>Reg</td>\n",
       "      <td>Lvl</td>\n",
       "      <td>AllPub</td>\n",
       "      <td>...</td>\n",
       "      <td>120</td>\n",
       "      <td>0</td>\n",
       "      <td>NaN</td>\n",
       "      <td>MnPrv</td>\n",
       "      <td>NaN</td>\n",
       "      <td>0</td>\n",
       "      <td>6</td>\n",
       "      <td>2010</td>\n",
       "      <td>WD</td>\n",
       "      <td>Normal</td>\n",
       "    </tr>\n",
       "    <tr>\n",
       "      <th>1</th>\n",
       "      <td>1462</td>\n",
       "      <td>20</td>\n",
       "      <td>RL</td>\n",
       "      <td>81.0</td>\n",
       "      <td>14267</td>\n",
       "      <td>Pave</td>\n",
       "      <td>NaN</td>\n",
       "      <td>IR1</td>\n",
       "      <td>Lvl</td>\n",
       "      <td>AllPub</td>\n",
       "      <td>...</td>\n",
       "      <td>0</td>\n",
       "      <td>0</td>\n",
       "      <td>NaN</td>\n",
       "      <td>NaN</td>\n",
       "      <td>Gar2</td>\n",
       "      <td>12500</td>\n",
       "      <td>6</td>\n",
       "      <td>2010</td>\n",
       "      <td>WD</td>\n",
       "      <td>Normal</td>\n",
       "    </tr>\n",
       "    <tr>\n",
       "      <th>2</th>\n",
       "      <td>1463</td>\n",
       "      <td>60</td>\n",
       "      <td>RL</td>\n",
       "      <td>74.0</td>\n",
       "      <td>13830</td>\n",
       "      <td>Pave</td>\n",
       "      <td>NaN</td>\n",
       "      <td>IR1</td>\n",
       "      <td>Lvl</td>\n",
       "      <td>AllPub</td>\n",
       "      <td>...</td>\n",
       "      <td>0</td>\n",
       "      <td>0</td>\n",
       "      <td>NaN</td>\n",
       "      <td>MnPrv</td>\n",
       "      <td>NaN</td>\n",
       "      <td>0</td>\n",
       "      <td>3</td>\n",
       "      <td>2010</td>\n",
       "      <td>WD</td>\n",
       "      <td>Normal</td>\n",
       "    </tr>\n",
       "    <tr>\n",
       "      <th>3</th>\n",
       "      <td>1464</td>\n",
       "      <td>60</td>\n",
       "      <td>RL</td>\n",
       "      <td>78.0</td>\n",
       "      <td>9978</td>\n",
       "      <td>Pave</td>\n",
       "      <td>NaN</td>\n",
       "      <td>IR1</td>\n",
       "      <td>Lvl</td>\n",
       "      <td>AllPub</td>\n",
       "      <td>...</td>\n",
       "      <td>0</td>\n",
       "      <td>0</td>\n",
       "      <td>NaN</td>\n",
       "      <td>NaN</td>\n",
       "      <td>NaN</td>\n",
       "      <td>0</td>\n",
       "      <td>6</td>\n",
       "      <td>2010</td>\n",
       "      <td>WD</td>\n",
       "      <td>Normal</td>\n",
       "    </tr>\n",
       "    <tr>\n",
       "      <th>4</th>\n",
       "      <td>1465</td>\n",
       "      <td>120</td>\n",
       "      <td>RL</td>\n",
       "      <td>43.0</td>\n",
       "      <td>5005</td>\n",
       "      <td>Pave</td>\n",
       "      <td>NaN</td>\n",
       "      <td>IR1</td>\n",
       "      <td>HLS</td>\n",
       "      <td>AllPub</td>\n",
       "      <td>...</td>\n",
       "      <td>144</td>\n",
       "      <td>0</td>\n",
       "      <td>NaN</td>\n",
       "      <td>NaN</td>\n",
       "      <td>NaN</td>\n",
       "      <td>0</td>\n",
       "      <td>1</td>\n",
       "      <td>2010</td>\n",
       "      <td>WD</td>\n",
       "      <td>Normal</td>\n",
       "    </tr>\n",
       "    <tr>\n",
       "      <th>5</th>\n",
       "      <td>1466</td>\n",
       "      <td>60</td>\n",
       "      <td>RL</td>\n",
       "      <td>75.0</td>\n",
       "      <td>10000</td>\n",
       "      <td>Pave</td>\n",
       "      <td>NaN</td>\n",
       "      <td>IR1</td>\n",
       "      <td>Lvl</td>\n",
       "      <td>AllPub</td>\n",
       "      <td>...</td>\n",
       "      <td>0</td>\n",
       "      <td>0</td>\n",
       "      <td>NaN</td>\n",
       "      <td>NaN</td>\n",
       "      <td>NaN</td>\n",
       "      <td>0</td>\n",
       "      <td>4</td>\n",
       "      <td>2010</td>\n",
       "      <td>WD</td>\n",
       "      <td>Normal</td>\n",
       "    </tr>\n",
       "  </tbody>\n",
       "</table>\n",
       "<p>6 rows × 80 columns</p>\n",
       "</div>"
      ],
      "text/plain": [
       "     Id  MSSubClass MSZoning  LotFrontage  LotArea Street Alley LotShape  \\\n",
       "0  1461          20       RH         80.0    11622   Pave   NaN      Reg   \n",
       "1  1462          20       RL         81.0    14267   Pave   NaN      IR1   \n",
       "2  1463          60       RL         74.0    13830   Pave   NaN      IR1   \n",
       "3  1464          60       RL         78.0     9978   Pave   NaN      IR1   \n",
       "4  1465         120       RL         43.0     5005   Pave   NaN      IR1   \n",
       "5  1466          60       RL         75.0    10000   Pave   NaN      IR1   \n",
       "\n",
       "  LandContour Utilities  ... ScreenPorch PoolArea PoolQC  Fence MiscFeature  \\\n",
       "0         Lvl    AllPub  ...         120        0    NaN  MnPrv         NaN   \n",
       "1         Lvl    AllPub  ...           0        0    NaN    NaN        Gar2   \n",
       "2         Lvl    AllPub  ...           0        0    NaN  MnPrv         NaN   \n",
       "3         Lvl    AllPub  ...           0        0    NaN    NaN         NaN   \n",
       "4         HLS    AllPub  ...         144        0    NaN    NaN         NaN   \n",
       "5         Lvl    AllPub  ...           0        0    NaN    NaN         NaN   \n",
       "\n",
       "  MiscVal MoSold  YrSold  SaleType  SaleCondition  \n",
       "0       0      6    2010        WD         Normal  \n",
       "1   12500      6    2010        WD         Normal  \n",
       "2       0      3    2010        WD         Normal  \n",
       "3       0      6    2010        WD         Normal  \n",
       "4       0      1    2010        WD         Normal  \n",
       "5       0      4    2010        WD         Normal  \n",
       "\n",
       "[6 rows x 80 columns]"
      ]
     },
     "execution_count": 56,
     "metadata": {},
     "output_type": "execute_result"
    }
   ],
   "source": [
    "teste.head(6)"
   ]
  },
  {
   "cell_type": "code",
   "execution_count": 57,
   "id": "4e47e182-1675-428a-adaa-f29185e6b359",
   "metadata": {},
   "outputs": [],
   "source": [
    "teste['central_air'] = teste.CentralAir.apply(lambda x: 1 if x == 'Y' else 0)"
   ]
  },
  {
   "cell_type": "code",
   "execution_count": 58,
   "id": "1fe477d4-4460-4a0e-85de-2cf943380903",
   "metadata": {},
   "outputs": [
    {
     "data": {
      "text/plain": [
       "CentralAir  central_air\n",
       "Y           1              1358\n",
       "N           0               101\n",
       "Name: count, dtype: int64"
      ]
     },
     "execution_count": 58,
     "metadata": {},
     "output_type": "execute_result"
    }
   ],
   "source": [
    "teste[['CentralAir','central_air']].value_counts()"
   ]
  },
  {
   "cell_type": "code",
   "execution_count": 59,
   "id": "fdeb6efc-3ebb-4520-8ce8-ba39460f1d5a",
   "metadata": {},
   "outputs": [],
   "source": [
    "teste = teste.drop(eliminar,axis = 1)"
   ]
  },
  {
   "cell_type": "code",
   "execution_count": 60,
   "id": "9757ea42-51a4-41ab-af76-5b38d50954ed",
   "metadata": {},
   "outputs": [],
   "source": [
    "teste['BsmtQual'] = teste['BsmtQual'].fillna('None')"
   ]
  },
  {
   "cell_type": "code",
   "execution_count": 61,
   "id": "2d449f48-5497-4957-a571-758d4a9e99c2",
   "metadata": {},
   "outputs": [],
   "source": [
    "mode_mszoning = teste['MSZoning'].mode()[0]"
   ]
  },
  {
   "cell_type": "code",
   "execution_count": 62,
   "id": "00096ff6-4778-40cf-86e5-ec83ee8699b5",
   "metadata": {},
   "outputs": [],
   "source": [
    "teste['MSZoning'] = teste['MSZoning'].fillna(mode_mszoning)"
   ]
  },
  {
   "cell_type": "code",
   "execution_count": 63,
   "id": "f0900d33-af66-4ac4-95d1-ceeffa63cc78",
   "metadata": {},
   "outputs": [],
   "source": [
    "bsmt_qual_dummies = pd.get_dummies(teste['BsmtQual'], prefix='BsmtQual').astype(int)"
   ]
  },
  {
   "cell_type": "code",
   "execution_count": 64,
   "id": "20313e41-7429-4d9a-9ba9-64a904d4d9bd",
   "metadata": {},
   "outputs": [],
   "source": [
    "teste = pd.concat([teste, bsmt_qual_dummies], axis=1)"
   ]
  },
  {
   "cell_type": "code",
   "execution_count": 65,
   "id": "5319a2fe-7d79-410e-8dd1-83bbf1a130e0",
   "metadata": {},
   "outputs": [],
   "source": [
    "teste.drop('BsmtQual', axis=1, inplace=True)"
   ]
  },
  {
   "cell_type": "code",
   "execution_count": 66,
   "id": "b229b0f3-870d-4d64-a923-60d49efd4c7f",
   "metadata": {},
   "outputs": [
    {
     "name": "stdout",
     "output_type": "stream",
     "text": [
      "   BsmtQual_Ex  BsmtQual_Fa  BsmtQual_Gd  BsmtQual_None  BsmtQual_TA\n",
      "0            0            0            0              0            1\n",
      "1            0            0            0              0            1\n",
      "2            0            0            1              0            0\n",
      "3            0            0            0              0            1\n",
      "4            0            0            1              0            0\n"
     ]
    }
   ],
   "source": [
    "print(teste.filter(like='BsmtQual').head())"
   ]
  },
  {
   "cell_type": "code",
   "execution_count": 67,
   "id": "14382366-f3b2-4f62-8cce-db974f3b3487",
   "metadata": {},
   "outputs": [],
   "source": [
    "kitchen_dummies = pd.get_dummies(teste['KitchenQual'], prefix='KitchenQual', drop_first=True).astype(int)"
   ]
  },
  {
   "cell_type": "code",
   "execution_count": 68,
   "id": "661c8669-1063-4a7a-b403-099b3abd28c7",
   "metadata": {},
   "outputs": [],
   "source": [
    "teste = pd.concat([teste, kitchen_dummies], axis=1)"
   ]
  },
  {
   "cell_type": "code",
   "execution_count": 69,
   "id": "21020e8e-bd4e-490c-affe-9bc0af42f96b",
   "metadata": {},
   "outputs": [],
   "source": [
    "teste.drop('KitchenQual', axis=1, inplace=True)"
   ]
  },
  {
   "cell_type": "code",
   "execution_count": 70,
   "id": "80bed221-0d4e-4c64-9469-a80ca9f64bf1",
   "metadata": {},
   "outputs": [
    {
     "data": {
      "text/plain": [
       "Index(['Id', 'MSSubClass', 'LotArea', 'OverallQual', 'OverallCond',\n",
       "       'YearBuilt', 'YearRemodAdd', 'MasVnrArea', 'BsmtFinSF1', 'BsmtFinSF2',\n",
       "       'BsmtUnfSF', 'TotalBsmtSF', '1stFlrSF', '2ndFlrSF', 'LowQualFinSF',\n",
       "       'GrLivArea', 'BsmtFullBath', 'BsmtHalfBath', 'FullBath', 'HalfBath',\n",
       "       'BedroomAbvGr', 'KitchenAbvGr', 'TotRmsAbvGrd', 'Fireplaces',\n",
       "       'GarageYrBlt', 'GarageCars', 'GarageArea', 'WoodDeckSF', 'OpenPorchSF',\n",
       "       'EnclosedPorch', '3SsnPorch', 'ScreenPorch', 'PoolArea', 'MiscVal',\n",
       "       'MoSold', 'YrSold', 'central_air', 'BsmtQual_Ex', 'BsmtQual_Fa',\n",
       "       'BsmtQual_Gd', 'BsmtQual_None', 'BsmtQual_TA', 'KitchenQual_Fa',\n",
       "       'KitchenQual_Gd', 'KitchenQual_TA'],\n",
       "      dtype='object')"
      ]
     },
     "execution_count": 70,
     "metadata": {},
     "output_type": "execute_result"
    }
   ],
   "source": [
    "colunas2 = teste.columns[teste.dtypes != 'object']\n",
    "colunas2"
   ]
  },
  {
   "cell_type": "code",
   "execution_count": 71,
   "id": "c01fec36-6c13-486c-9405-e91cabdeea75",
   "metadata": {},
   "outputs": [],
   "source": [
    "teste = teste.loc[:, colunas2]"
   ]
  },
  {
   "cell_type": "code",
   "execution_count": 72,
   "id": "79a6a1b2-0e17-47e4-9fd9-cb3058dbfc39",
   "metadata": {},
   "outputs": [
    {
     "data": {
      "text/plain": [
       "GarageYrBlt     78\n",
       "MasVnrArea      15\n",
       "BsmtFullBath     2\n",
       "BsmtHalfBath     2\n",
       "BsmtFinSF2       1\n",
       "GarageCars       1\n",
       "BsmtUnfSF        1\n",
       "BsmtFinSF1       1\n",
       "GarageArea       1\n",
       "TotalBsmtSF      1\n",
       "OverallCond      0\n",
       "LotArea          0\n",
       "OverallQual      0\n",
       "1stFlrSF         0\n",
       "YearBuilt        0\n",
       "dtype: int64"
      ]
     },
     "execution_count": 72,
     "metadata": {},
     "output_type": "execute_result"
    }
   ],
   "source": [
    "teste.isnull().sum().sort_values(ascending=False).head(15)"
   ]
  },
  {
   "cell_type": "code",
   "execution_count": 73,
   "id": "60f819d7-ec1e-40e7-870b-f864dedfcd5b",
   "metadata": {},
   "outputs": [],
   "source": [
    "teste = teste.fillna({\n",
    "    \"GarageYrBlt\": -1,\n",
    "    \"MasVnrArea\": 0\n",
    "}).fillna(-1)"
   ]
  },
  {
   "cell_type": "code",
   "execution_count": 74,
   "id": "d06ca676-3cf5-461c-b1cb-8a5a29ac2dc2",
   "metadata": {},
   "outputs": [],
   "source": [
    "# regressão linear para fazer a previsão\n",
    "y_pred = reg_rl.predict(teste)"
   ]
  },
  {
   "cell_type": "code",
   "execution_count": 75,
   "id": "8e020d9e-857c-4fdf-a2dd-8e137cad3237",
   "metadata": {},
   "outputs": [],
   "source": [
    "# adicionar essa coluna de previsão na nossa base\n",
    "teste['SalePrice'] = y_pred"
   ]
  },
  {
   "cell_type": "code",
   "execution_count": 78,
   "id": "74d6b477-0819-47ed-aee6-cd526b0c51f6",
   "metadata": {},
   "outputs": [
    {
     "data": {
      "text/html": [
       "<div>\n",
       "<style scoped>\n",
       "    .dataframe tbody tr th:only-of-type {\n",
       "        vertical-align: middle;\n",
       "    }\n",
       "\n",
       "    .dataframe tbody tr th {\n",
       "        vertical-align: top;\n",
       "    }\n",
       "\n",
       "    .dataframe thead th {\n",
       "        text-align: right;\n",
       "    }\n",
       "</style>\n",
       "<table border=\"1\" class=\"dataframe\">\n",
       "  <thead>\n",
       "    <tr style=\"text-align: right;\">\n",
       "      <th></th>\n",
       "      <th>Id</th>\n",
       "      <th>SalePrice</th>\n",
       "    </tr>\n",
       "  </thead>\n",
       "  <tbody>\n",
       "    <tr>\n",
       "      <th>0</th>\n",
       "      <td>1461</td>\n",
       "      <td>118629.809593</td>\n",
       "    </tr>\n",
       "    <tr>\n",
       "      <th>1</th>\n",
       "      <td>1462</td>\n",
       "      <td>145891.760494</td>\n",
       "    </tr>\n",
       "    <tr>\n",
       "      <th>2</th>\n",
       "      <td>1463</td>\n",
       "      <td>168142.975235</td>\n",
       "    </tr>\n",
       "  </tbody>\n",
       "</table>\n",
       "</div>"
      ],
      "text/plain": [
       "     Id      SalePrice\n",
       "0  1461  118629.809593\n",
       "1  1462  145891.760494\n",
       "2  1463  168142.975235"
      ]
     },
     "execution_count": 78,
     "metadata": {},
     "output_type": "execute_result"
    }
   ],
   "source": [
    "# E extrair somente o Id e o SalePrice\n",
    "resultado03 = teste[['Id','SalePrice']]\n",
    "resultado03.head(3)"
   ]
  },
  {
   "cell_type": "code",
   "execution_count": 79,
   "id": "23ea446b-cfb4-46d9-9eec-f26702ede17b",
   "metadata": {},
   "outputs": [],
   "source": [
    "resultado03.to_csv('resultado03.csv',index=False)"
   ]
  },
  {
   "cell_type": "code",
   "execution_count": null,
   "id": "42fe45f7-f695-43f8-acb5-8e50758f7434",
   "metadata": {},
   "outputs": [],
   "source": []
  }
 ],
 "metadata": {
  "kernelspec": {
   "display_name": "Python (py311)",
   "language": "python",
   "name": "py311"
  },
  "language_info": {
   "codemirror_mode": {
    "name": "ipython",
    "version": 3
   },
   "file_extension": ".py",
   "mimetype": "text/x-python",
   "name": "python",
   "nbconvert_exporter": "python",
   "pygments_lexer": "ipython3",
   "version": "3.11.13"
  }
 },
 "nbformat": 4,
 "nbformat_minor": 5
}
